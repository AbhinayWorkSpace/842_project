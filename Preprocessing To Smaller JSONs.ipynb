{
 "cells": [
  {
   "cell_type": "markdown",
   "id": "db79a092-a23e-402f-b75c-febc4f02c9c4",
   "metadata": {},
   "source": [
    "Amazon Review Data dataset categories similar in size:\n",
    "\n",
    "- **Currently chosen option**: Sports and Outdoors (10.3m), Tools and Home Improvement (12.2m), Beauty and Personal Care (11.3m), Cell Phones and Accessories (11.6m)\n",
    "- Alternative option: Automotive (8.0m), Grocery and Gourmet Food (7.0m), Office Products (7.6m), Toys and Games (8.1m), Pet Supplies (7.8m), Movies and TV (6.5m)"
   ]
  },
  {
   "cell_type": "markdown",
   "id": "96761d51-be84-4239-bcd2-fdd93c0a34c8",
   "metadata": {},
   "source": [
    "What does the code below do? \n",
    "\n",
    "Import the chosen category files from (https://amazon-reviews-2023.github.io), read in the first 1 million lines, and create a DataFrame for each of them. Then, save the DataFrames as new JSON files. One DataFrame includes all the data merged from the four categories and is also converted into a JSON file. "
   ]
  },
  {
   "cell_type": "code",
   "execution_count": 38,
   "id": "7191c09c-3052-463e-8ae5-d63bf0382b80",
   "metadata": {},
   "outputs": [],
   "source": [
    "# import pandas as pd\n",
    "# import json\n",
    "# import itertools"
   ]
  },
  {
   "cell_type": "code",
   "execution_count": 40,
   "id": "4490572c-b11d-4eff-961d-5fcf1b54b178",
   "metadata": {},
   "outputs": [],
   "source": [
    "# data_locations = [\"Sports_and_Outdoors.jsonl/Sports_and_Outdoors.jsonl\", \"Tools_and_Home_Improvement.jsonl/Tools_and_Home_Improvement.jsonl\", \n",
    "#                   \"Beauty_and_Personal_Care.jsonl/Beauty_and_Personal_Care.jsonl\", \"Cell_Phones_and_Accessories.jsonl/Cell_Phones_and_Accessories.jsonl\"]\n",
    "# dfs = {}\n",
    "\n",
    "# for file in data_locations: \n",
    "#     content = []\n",
    "#     with open(file, 'r') as f:\n",
    "#         for line in itertools.islice(f,1000000): # Citation: https://stackoverflow.com/questions/54346356/how-to-read-a-limited-lines-in-my-file-as-the-python-is-giving-a-memory-error\n",
    "#             line = line.strip()\n",
    "#             if not line: \n",
    "#                 continue\n",
    "#             content.append(json.loads(line))\n",
    "#     df = pd.DataFrame(content) # Add content to that DataFrame\n",
    "#     dfs[file] = df # Add to the dictionary of DataFrames \n",
    "\n",
    "# df_sports_outdoors = dfs[\"Sports_and_Outdoors.jsonl/Sports_and_Outdoors.jsonl\"]\n",
    "# df_tools_home_improvement = dfs[\"Tools_and_Home_Improvement.jsonl/Tools_and_Home_Improvement.jsonl\"]\n",
    "# df_beauty_personal_care = dfs[\"Beauty_and_Personal_Care.jsonl/Beauty_and_Personal_Care.jsonl\"]\n",
    "# df_cell_phones_accessories = dfs[\"Cell_Phones_and_Accessories.jsonl/Cell_Phones_and_Accessories.jsonl\"]\n",
    "\n",
    "# df_merged = pd.concat([df_sports_outdoors, df_tools_home_improvement, df_beauty_personal_care, df_cell_phones_accessories], ignore_index=True, sort=False) # Citation: https://stackoverflow.com/questions/12850345/how-do-i-combine-two-dataframes\n",
    "# print(len(df_merged)) # Should be about 4 million rows"
   ]
  },
  {
   "cell_type": "code",
   "execution_count": 42,
   "id": "9a4253e1-38f1-426e-9200-53478c02c686",
   "metadata": {},
   "outputs": [],
   "source": [
    "# Create new JSON files\n",
    "# df_sports_outdoors.to_json('sports_outdoors.json', orient='records', lines=True)\n",
    "# df_tools_home_improvement.to_json('tools_home_improvement.json', orient='records', lines=True)\n",
    "# df_beauty_personal_care.to_json('beauty_personal_care.json', orient='records', lines=True)\n",
    "# df_cell_phones_accessories.to_json('cell_phones_accessories.json', orient='records', lines=True)\n",
    "# df_merged.to_json('all_four_categories.json', orient='records', lines=True)"
   ]
  },
  {
   "cell_type": "code",
   "execution_count": 44,
   "id": "12787516-8af6-47ac-859b-ee187c15f991",
   "metadata": {},
   "outputs": [],
   "source": [
    "# print(df_sports_outdoors['rating'].value_counts())\n",
    "# print(df_tools_home_improvement['rating'].value_counts())\n",
    "# print(df_beauty_personal_care['rating'].value_counts())\n",
    "# print(df_cell_phones_accessories['rating'].value_counts())"
   ]
  }
 ],
 "metadata": {
  "kernelspec": {
   "display_name": "Python 3 (ipykernel)",
   "language": "python",
   "name": "python3"
  },
  "language_info": {
   "codemirror_mode": {
    "name": "ipython",
    "version": 3
   },
   "file_extension": ".py",
   "mimetype": "text/x-python",
   "name": "python",
   "nbconvert_exporter": "python",
   "pygments_lexer": "ipython3",
   "version": "3.12.4"
  }
 },
 "nbformat": 4,
 "nbformat_minor": 5
}
